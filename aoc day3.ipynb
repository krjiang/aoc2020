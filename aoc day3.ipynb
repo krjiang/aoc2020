{
 "cells": [
  {
   "cell_type": "code",
   "execution_count": 27,
   "metadata": {},
   "outputs": [
    {
     "data": {
      "text/plain": [
       "3510149120"
      ]
     },
     "execution_count": 27,
     "metadata": {},
     "output_type": "execute_result"
    }
   ],
   "source": [
    "data = open('input3.txt').read().split('\\n')\n",
    "\n",
    "def solve(data, xslope, yslope): \n",
    "    trees = 0\n",
    "    rowlen = len(data[0])\n",
    "    x = 0\n",
    "    y = 0\n",
    "    while y < len(data):\n",
    "        if x > len(data[y]):\n",
    "            y += yslope\n",
    "            continue\n",
    "        if data[y][x] == '#': trees += 1\n",
    "        x = (x + xslope) % rowlen\n",
    "        y += yslope\n",
    "    return trees\n",
    "\n",
    "solve(data, 1, 1) * solve(data, 3, 1) * solve(data, 5, 1) * solve(data, 7, 1) * solve(data, 1, 2)"
   ]
  }
 ],
 "metadata": {
  "kernelspec": {
   "display_name": "Python 3",
   "language": "python",
   "name": "python3"
  },
  "language_info": {
   "codemirror_mode": {
    "name": "ipython",
    "version": 3
   },
   "file_extension": ".py",
   "mimetype": "text/x-python",
   "name": "python",
   "nbconvert_exporter": "python",
   "pygments_lexer": "ipython3",
   "version": "3.7.1"
  }
 },
 "nbformat": 4,
 "nbformat_minor": 2
}
