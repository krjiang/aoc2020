{
 "cells": [
  {
   "cell_type": "code",
   "execution_count": 2,
   "metadata": {},
   "outputs": [
    {
     "data": {
      "text/plain": [
       "580"
      ]
     },
     "execution_count": 2,
     "metadata": {},
     "output_type": "execute_result"
    }
   ],
   "source": [
    "import re\n",
    "\n",
    "data = open('input2.txt', 'r').read().split('\\n')\n",
    "\n",
    "# Takes in an input string and splits it into 4 components: the 2 numbers, the character, and the password\n",
    "def parse(item):\n",
    "    return re.split(': | |-', item)\n",
    "\n",
    "# Returns whether a password is valid using the first given conditions\n",
    "def isValid1(item):\n",
    "    string = parse(item)\n",
    "    if len(string) != 4:\n",
    "        return\n",
    "    least, most, char, password = string[:]\n",
    "    count = password.count(char)\n",
    "    if int(least) <= count <= int(most): return True\n",
    "    else: return False\n",
    "\n",
    "# Returns whether a password is valid using the second given conditions\n",
    "def isValid2(item):\n",
    "    string = parse(item)\n",
    "    if len(string) != 4:\n",
    "        return\n",
    "    first, last, char, password = string[:]\n",
    "    password = list(password)\n",
    "    if (password[int(first) - 1] == char) != (password[int(last) - 1] == char): return True\n",
    "    else: return False\n",
    "\n",
    "# Returns the number of valid passwords within the data set under the given conditions\n",
    "def solve(data, condition):\n",
    "    number = 0\n",
    "    for i in data:\n",
    "        if condition == 1 and isValid1(i): number += 1\n",
    "        elif condition == 2 and isValid2(i): number += 1\n",
    "    return number\n",
    "\n",
    "solve(data, 1)"
   ]
  },
  {
   "cell_type": "code",
   "execution_count": 17,
   "metadata": {},
   "outputs": [],
   "source": [
    "a, b = 'hello world'.split()"
   ]
  },
  {
   "cell_type": "code",
   "execution_count": null,
   "metadata": {},
   "outputs": [],
   "source": []
  }
 ],
 "metadata": {
  "kernelspec": {
   "display_name": "Python 3",
   "language": "python",
   "name": "python3"
  },
  "language_info": {
   "codemirror_mode": {
    "name": "ipython",
    "version": 3
   },
   "file_extension": ".py",
   "mimetype": "text/x-python",
   "name": "python",
   "nbconvert_exporter": "python",
   "pygments_lexer": "ipython3",
   "version": "3.7.1"
  }
 },
 "nbformat": 4,
 "nbformat_minor": 2
}
