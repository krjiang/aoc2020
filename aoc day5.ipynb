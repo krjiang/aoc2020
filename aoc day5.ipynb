{
 "cells": [
  {
   "cell_type": "code",
   "execution_count": 94,
   "metadata": {},
   "outputs": [
    {
     "data": {
      "text/plain": [
       "911"
      ]
     },
     "execution_count": 94,
     "metadata": {},
     "output_type": "execute_result"
    }
   ],
   "source": [
    "data = open('input5.txt').read().split('\\n')\n",
    "data = data[:len(data) - 1]\n",
    "\n",
    "def get_seat(string, row):\n",
    "    if len(string) == 3:\n",
    "        column = list(range(8))\n",
    "        for i in string:\n",
    "            if i == 'L': column = column[:int(len(column)/2)]\n",
    "            else: column = column[int(len(column)/2):]\n",
    "        return 8 * row[0] + column[0]\n",
    "    elif string[0] == 'F': return get_seat(string[1:], row[:int(len(row)/2)])\n",
    "    else: return get_seat(string[1:], row[int(len(row)/2):])\n",
    "\n",
    "    \n",
    "big = 0\n",
    "for i in data:\n",
    "    a = get_seat(i, list(range(128)))\n",
    "    if a > big:\n",
    "        big = a\n",
    "big"
   ]
  },
  {
   "cell_type": "code",
   "execution_count": 100,
   "metadata": {},
   "outputs": [
    {
     "name": "stdout",
     "output_type": "stream",
     "text": [
      "78 4 628\n"
     ]
    }
   ],
   "source": [
    "ids = []\n",
    "for i in range(len(data)):\n",
    "    ids.append(get_seat(data[i], list(range(128))))\n",
    "ids = sorted(ids)\n",
    "for i in range(1, len(ids) - 1):\n",
    "    if ids[i] != ids[i + 1] - 1:\n",
    "        print(ids[i]//8, ids[i]%8, ids[i])"
   ]
  },
  {
   "cell_type": "code",
   "execution_count": 68,
   "metadata": {},
   "outputs": [
    {
     "data": {
      "text/plain": [
       "[112, 113]"
      ]
     },
     "execution_count": 68,
     "metadata": {},
     "output_type": "execute_result"
    }
   ],
   "source": [
    "row = list(range(128))\n",
    "row = row[int(len(row)/2):]\n",
    "row = row[int(len(row)/2):]\n",
    "row = row[int(len(row)/2):]\n",
    "row = row[:int(len(row)/2)]\n",
    "row = row[:int(len(row)/2)]\n",
    "row = row[:int(len(row)/2)]\n",
    "\n",
    "row"
   ]
  }
 ],
 "metadata": {
  "kernelspec": {
   "display_name": "Python 3",
   "language": "python",
   "name": "python3"
  },
  "language_info": {
   "codemirror_mode": {
    "name": "ipython",
    "version": 3
   },
   "file_extension": ".py",
   "mimetype": "text/x-python",
   "name": "python",
   "nbconvert_exporter": "python",
   "pygments_lexer": "ipython3",
   "version": "3.7.1"
  }
 },
 "nbformat": 4,
 "nbformat_minor": 2
}
