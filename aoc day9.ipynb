{
 "cells": [
  {
   "cell_type": "code",
   "execution_count": 25,
   "metadata": {},
   "outputs": [],
   "source": [
    "import itertools\n",
    "\n",
    "data = open('input9.txt').read().strip().split('\\n')\n",
    "\n",
    "prev = data[:25]\n",
    "value = 0\n",
    "\n",
    "for i in range(len(prev)):\n",
    "    prev[i] = int(prev[i])\n",
    "\n",
    "for i in data[25:]:\n",
    "    i = int(i)\n",
    "    match = False\n",
    "    for x,y in itertools.combinations(prev, 2):\n",
    "        if x + y == i:\n",
    "            match = True\n",
    "    if match != True:\n",
    "        value = i\n",
    "    prev.pop(0)\n",
    "    prev.append(i)\n",
    "    \n"
   ]
  },
  {
   "cell_type": "code",
   "execution_count": 39,
   "metadata": {},
   "outputs": [
    {
     "data": {
      "text/plain": [
       "[1503494,\n",
       " 978652,\n",
       " 1057251,\n",
       " 1142009,\n",
       " 1239468,\n",
       " 1407633,\n",
       " 1048040,\n",
       " 1484541,\n",
       " 1164289,\n",
       " 1432864,\n",
       " 1792914,\n",
       " 2556472,\n",
       " 2464510,\n",
       " 1750429,\n",
       " 1753116,\n",
       " 1673488,\n",
       " 1685419]"
      ]
     },
     "execution_count": 39,
     "metadata": {},
     "output_type": "execute_result"
    }
   ],
   "source": [
    "value\n",
    "\n",
    "current_sum = 0\n",
    "window = []\n",
    "\n",
    "def calculate(window, current_sum, index):\n",
    "    if current_sum == value:\n",
    "        return window\n",
    "    current_sum += int(data[index])\n",
    "    window.append(int(data[index]))\n",
    "    while current_sum > value:\n",
    "        current_sum -= window.pop(0)\n",
    "    if current_sum == value:\n",
    "        return window\n",
    "    else:\n",
    "        return calculate(window, current_sum, index + 1)\n",
    "\n",
    "window = calculate(window, current_sum, 0)\n",
    "window"
   ]
  },
  {
   "cell_type": "code",
   "execution_count": 43,
   "metadata": {},
   "outputs": [
    {
     "data": {
      "text/plain": [
       "3535124"
      ]
     },
     "execution_count": 43,
     "metadata": {},
     "output_type": "execute_result"
    }
   ],
   "source": [
    "max(window) + min(window)"
   ]
  },
  {
   "cell_type": "code",
   "execution_count": null,
   "metadata": {},
   "outputs": [],
   "source": []
  }
 ],
 "metadata": {
  "kernelspec": {
   "display_name": "Python 3",
   "language": "python",
   "name": "python3"
  },
  "language_info": {
   "codemirror_mode": {
    "name": "ipython",
    "version": 3
   },
   "file_extension": ".py",
   "mimetype": "text/x-python",
   "name": "python",
   "nbconvert_exporter": "python",
   "pygments_lexer": "ipython3",
   "version": "3.7.1"
  }
 },
 "nbformat": 4,
 "nbformat_minor": 2
}
