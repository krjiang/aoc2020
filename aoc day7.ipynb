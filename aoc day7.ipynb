{
 "cells": [
  {
   "cell_type": "code",
   "execution_count": 136,
   "metadata": {},
   "outputs": [],
   "source": [
    "import re\n",
    "\n",
    "\n",
    "string = '''shiny gold bags contain 2 dark red bags.\n",
    "dark red bags contain 2 dark orange bags.\n",
    "dark orange bags contain 2 dark yellow bags.\n",
    "dark yellow bags contain 2 dark green bags.\n",
    "dark green bags contain 2 dark blue bags.\n",
    "dark blue bags contain 2 dark violet bags.\n",
    "dark violet bags contain no other bags.'''\n",
    "\n",
    "data = open('input7.txt').read().strip().split('\\n')\n",
    "#data = string.split('\\n')\n",
    "\n",
    "def parse(string):\n",
    "    terms = string.split('bag')\n",
    "    container = terms[0].strip()\n",
    "    table = [container]\n",
    "    for term in terms[1:]:\n",
    "        bag = re.findall('\\d\\s\\w+\\s\\w+', term)\n",
    "        if bag: table.append(bag[0])\n",
    "    return table\n",
    "\n",
    "def check(bag):\n",
    "    for i in data:\n",
    "        table = parse(i)\n",
    "        container = table[0]\n",
    "        if container == bag:\n",
    "            if len(table) == 1:\n",
    "                return False\n",
    "            else:\n",
    "                for j in table[1:]:\n",
    "                    word = j[2:]\n",
    "                    if word == 'shiny gold':\n",
    "                        return True\n",
    "                    else:\n",
    "                        if check(word): return True\n",
    "                return False\n",
    "\n",
    "#print(check(parse(data[0])[0]))\n",
    "\n",
    "#counter = 0\n",
    "#index = 0\n",
    "#for i in data:\n",
    "#    table = parse(i)\n",
    "#    container = table[0]\n",
    "#    if check(container):\n",
    "#        counter += 1\n",
    "#    index += 1\n",
    "\n",
    "#counter"
   ]
  },
  {
   "cell_type": "code",
   "execution_count": 137,
   "metadata": {},
   "outputs": [
    {
     "data": {
      "text/plain": [
       "12414"
      ]
     },
     "execution_count": 137,
     "metadata": {},
     "output_type": "execute_result"
    }
   ],
   "source": [
    "def number(bag):\n",
    "    total = 0\n",
    "    for i in data:\n",
    "        table = parse(i)\n",
    "        container = table[0]\n",
    "        if container == bag:\n",
    "            if len(table) == 1:\n",
    "                return 0\n",
    "            else:\n",
    "                for j in table[1:]:\n",
    "                    words = ''.join(j).split()\n",
    "                    value = number(j[2:])\n",
    "                    total += int(j[0]) + int(words[0]) * value\n",
    "                return total\n",
    "                    \n",
    "number('shiny gold')"
   ]
  },
  {
   "cell_type": "code",
   "execution_count": null,
   "metadata": {},
   "outputs": [],
   "source": []
  }
 ],
 "metadata": {
  "kernelspec": {
   "display_name": "Python 3",
   "language": "python",
   "name": "python3"
  },
  "language_info": {
   "codemirror_mode": {
    "name": "ipython",
    "version": 3
   },
   "file_extension": ".py",
   "mimetype": "text/x-python",
   "name": "python",
   "nbconvert_exporter": "python",
   "pygments_lexer": "ipython3",
   "version": "3.7.1"
  }
 },
 "nbformat": 4,
 "nbformat_minor": 2
}
